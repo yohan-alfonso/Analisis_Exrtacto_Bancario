{
 "cells": [
  {
   "attachments": {},
   "cell_type": "markdown",
   "metadata": {},
   "source": [
    "#### Enviroment\n",
    "Python 3.11.0"
   ]
  },
  {
   "attachments": {},
   "cell_type": "markdown",
   "metadata": {},
   "source": [
    "-----------------------------"
   ]
  },
  {
   "attachments": {},
   "cell_type": "markdown",
   "metadata": {},
   "source": [
    "### Libraries"
   ]
  },
  {
   "cell_type": "code",
   "execution_count": 2,
   "metadata": {},
   "outputs": [],
   "source": [
    "from tabula.io import read_pdf\n",
    "import tabula\n",
    "import os"
   ]
  },
  {
   "attachments": {},
   "cell_type": "markdown",
   "metadata": {},
   "source": [
    "#### This chunk of the code is for you to know how to read PDF files but they are not going to be availabe becase contains sensible informatios of my number accounts.\n",
    "What matters here is the kind of expenses, where they were and how much money."
   ]
  },
  {
   "cell_type": "code",
   "execution_count": 18,
   "metadata": {},
   "outputs": [
    {
     "name": "stdout",
     "output_type": "stream",
     "text": [
      "['Banco en Línea - Santander1.pdf', 'Banco en Línea - Santander2.pdf', 'Banco en Línea - Santander3.pdf', 'Banco en Línea - Santander4.pdf']\n"
     ]
    }
   ],
   "source": [
    "dir = os.getcwd()\n",
    "dir_path = dir+'\\Extractos'   # Just to find the path where de bank resume of expenses are available\n",
    "\n",
    "lista_pdf = []  # List to store de name of .pdf\n",
    "\n",
    "for files in os.listdir(dir_path):\n",
    "    if files.endswith('pdf'):  #just files *.pdf\n",
    "        lista_pdf.append(files)\n",
    "    \n",
    "print(lista_pdf)"
   ]
  },
  {
   "attachments": {},
   "cell_type": "markdown",
   "metadata": {},
   "source": [
    "### Transform data to CSV using the librarie Tabula "
   ]
  },
  {
   "cell_type": "code",
   "execution_count": null,
   "metadata": {},
   "outputs": [],
   "source": [
    "dir = os.getcwd()\n",
    "dir_path = dir+'\\Extractos\\\\'  \n",
    "\n",
    "for df in lista_pdf:\n",
    "   tabula.convert_into(dir_path + df, \"output\"+df+\".csv\", output_format=\"csv\", pages='all')"
   ]
  },
  {
   "attachments": {},
   "cell_type": "markdown",
   "metadata": {},
   "source": [
    "#### Conver all files to CSV format"
   ]
  },
  {
   "cell_type": "code",
   "execution_count": 30,
   "metadata": {},
   "outputs": [
    {
     "name": "stdout",
     "output_type": "stream",
     "text": [
      "['outputBanco en Línea - Santander1.pdf.csv', 'outputBanco en Línea - Santander2.pdf.csv', 'outputBanco en Línea - Santander3.pdf.csv', 'outputBanco en Línea - Santander4.pdf.csv']\n"
     ]
    }
   ],
   "source": [
    "dir_path = os.getcwd()\n",
    "\n",
    "lista_csv = []\n",
    "\n",
    "for files in os.listdir(dir_path):\n",
    "    if files.endswith('csv'):\n",
    "        lista_csv.append(files)\n",
    "    \n",
    "print(lista_csv)"
   ]
  },
  {
   "attachments": {},
   "cell_type": "markdown",
   "metadata": {},
   "source": [
    "### Cleancy \n",
    "in this part we are going to prepare de files to be correctly read\n",
    "it involves to erase some rows because the pdf files have certain lines of informatios that is not necesary and might make the data dirty"
   ]
  },
  {
   "cell_type": "code",
   "execution_count": 31,
   "metadata": {},
   "outputs": [
    {
     "name": "stdout",
     "output_type": "stream",
     "text": [
      "60\n"
     ]
    }
   ],
   "source": [
    "import pandas as pd\n",
    "print(pd.options.display.max_rows) \n",
    "\n",
    "colnames = ['Fecha', 'Salida', 'Entrada',  'Descripción','Documento']\n",
    "\n",
    "df_s0 =  pd.read_csv(lista_csv[0], encoding='Latin1' , skiprows=[0,1], skipfooter=4, engine='python',names=colnames)\n",
    "df_s1 =  pd.read_csv(lista_csv[1], encoding='Latin1', skiprows=[0,1], skipfooter=4,engine='python',  names=colnames)\n",
    "df_s2 =  pd.read_csv(lista_csv[2], encoding='Latin1',skiprows=[0,1],skipfooter=4, engine='python', names=colnames)\n",
    "df_s3 =  pd.read_csv(lista_csv[3], encoding='Latin1',skiprows=[0,1], skipfooter=4, engine='python', names=colnames)"
   ]
  }
 ],
 "metadata": {
  "kernelspec": {
   "display_name": "Python 3",
   "language": "python",
   "name": "python3"
  },
  "language_info": {
   "codemirror_mode": {
    "name": "ipython",
    "version": 3
   },
   "file_extension": ".py",
   "mimetype": "text/x-python",
   "name": "python",
   "nbconvert_exporter": "python",
   "pygments_lexer": "ipython3",
   "version": "3.11.0"
  },
  "orig_nbformat": 4
 },
 "nbformat": 4,
 "nbformat_minor": 2
}
