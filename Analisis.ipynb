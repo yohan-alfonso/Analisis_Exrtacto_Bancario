{
 "cells": [
  {
   "attachments": {},
   "cell_type": "markdown",
   "metadata": {},
   "source": [
    "#### Enviroment\n",
    "Python 3.11.0"
   ]
  },
  {
   "attachments": {},
   "cell_type": "markdown",
   "metadata": {},
   "source": [
    "-----------------------------"
   ]
  },
  {
   "attachments": {},
   "cell_type": "markdown",
   "metadata": {},
   "source": [
    "### Libraries"
   ]
  },
  {
   "cell_type": "code",
   "execution_count": 2,
   "metadata": {},
   "outputs": [],
   "source": [
    "from tabula.io import read_pdf\n",
    "import tabula\n",
    "import os"
   ]
  },
  {
   "attachments": {},
   "cell_type": "markdown",
   "metadata": {},
   "source": [
    "#### This chunk of the code is for you to know how to read PDF files but they are not going to be availabe becase contains sensible informatios of my number accounts.\n",
    "What matters here is the kind of expenses, where they were and how much money."
   ]
  },
  {
   "cell_type": "code",
   "execution_count": 5,
   "metadata": {},
   "outputs": [
    {
     "name": "stdout",
     "output_type": "stream",
     "text": [
      "['Banco en Línea - Santander1.pdf', 'Banco en Línea - Santander2.pdf', 'Banco en Línea - Santander3.pdf', 'Banco en Línea - Santander4.pdf']\n"
     ]
    }
   ],
   "source": [
    "dir = os.getcwd()\n",
    "dir_path = dir+'\\Extractos'   # Just to find the path where de bank resume of expenses are available\n",
    "\n",
    "lista_pdf = []  # List to store de name of .pdf\n",
    "\n",
    "for files in os.listdir(dir_path):\n",
    "    if files.endswith('pdf'):  #just files *.pdf\n",
    "        lista_pdf.append(files)\n",
    "    \n",
    "print(lista_pdf)"
   ]
  },
  {
   "attachments": {},
   "cell_type": "markdown",
   "metadata": {},
   "source": [
    "### Transform data to CSV using the librarie Tabula "
   ]
  },
  {
   "cell_type": "code",
   "execution_count": 6,
   "metadata": {},
   "outputs": [],
   "source": [
    "dir = os.getcwd()\n",
    "dir_path = dir+'\\Extractos\\\\'  \n",
    "\n",
    "for df in lista_pdf:\n",
    "   tabula.convert_into(dir_path + df, \"output\"+df+\".csv\", output_format=\"csv\", pages='all')"
   ]
  },
  {
   "attachments": {},
   "cell_type": "markdown",
   "metadata": {},
   "source": [
    "#### Conver all files to CSV format"
   ]
  },
  {
   "cell_type": "code",
   "execution_count": 7,
   "metadata": {},
   "outputs": [
    {
     "name": "stdout",
     "output_type": "stream",
     "text": [
      "['outputBanco en Línea - Santander1.pdf.csv', 'outputBanco en Línea - Santander2.pdf.csv', 'outputBanco en Línea - Santander3.pdf.csv', 'outputBanco en Línea - Santander4.pdf.csv']\n"
     ]
    }
   ],
   "source": [
    "dir_path = os.getcwd()\n",
    "\n",
    "lista_csv = []\n",
    "\n",
    "for files in os.listdir(dir_path):\n",
    "    if files.endswith('csv'):\n",
    "        lista_csv.append(files)\n",
    "    \n",
    "print(lista_csv)"
   ]
  },
  {
   "attachments": {},
   "cell_type": "markdown",
   "metadata": {},
   "source": [
    "### Cleancy \n",
    "in this part we are going to prepare de files to be correctly read\n",
    "it involves to erase some rows because the pdf files have certain lines of information at the begining and end that is not necesary and might make the data dirty"
   ]
  },
  {
   "cell_type": "code",
   "execution_count": 9,
   "metadata": {},
   "outputs": [
    {
     "name": "stdout",
     "output_type": "stream",
     "text": [
      "60\n"
     ]
    }
   ],
   "source": [
    "import pandas as pd\n",
    "print(pd.options.display.max_rows) \n",
    "\n",
    "colnames = ['Fecha', 'Salida', 'Entrada',  'Descripción','Documento']\n",
    "\n",
    "df_s0 =  pd.read_csv(lista_csv[0], encoding='Latin1',skiprows=[0,1], skipfooter=4, engine='python',names=colnames)\n",
    "df_s1 =  pd.read_csv(lista_csv[1], encoding='Latin1',skiprows=[0,1], skipfooter=4,engine='python',  names=colnames)\n",
    "df_s2 =  pd.read_csv(lista_csv[2], encoding='Latin1',skiprows=[0,1],skipfooter=4, engine='python', names=colnames)\n",
    "df_s3 =  pd.read_csv(lista_csv[3], encoding='Latin1',skiprows=[0,1], skipfooter=4, engine='python', names=colnames)"
   ]
  },
  {
   "attachments": {},
   "cell_type": "markdown",
   "metadata": {},
   "source": [
    "#### Next process is to cancatenate all the files so we can work just with one , operartions are easy that way in this case"
   ]
  },
  {
   "cell_type": "code",
   "execution_count": 12,
   "metadata": {},
   "outputs": [
    {
     "data": {
      "text/html": [
       "<div>\n",
       "<style scoped>\n",
       "    .dataframe tbody tr th:only-of-type {\n",
       "        vertical-align: middle;\n",
       "    }\n",
       "\n",
       "    .dataframe tbody tr th {\n",
       "        vertical-align: top;\n",
       "    }\n",
       "\n",
       "    .dataframe thead th {\n",
       "        text-align: right;\n",
       "    }\n",
       "</style>\n",
       "<table border=\"1\" class=\"dataframe\">\n",
       "  <thead>\n",
       "    <tr style=\"text-align: right;\">\n",
       "      <th></th>\n",
       "      <th>Fecha</th>\n",
       "      <th>Salida</th>\n",
       "      <th>Entrada</th>\n",
       "      <th>Descripción</th>\n",
       "      <th>Documento</th>\n",
       "    </tr>\n",
       "  </thead>\n",
       "  <tbody>\n",
       "    <tr>\n",
       "      <th>0</th>\n",
       "      <td>03/01/2022</td>\n",
       "      <td>763.400</td>\n",
       "      <td>NaN</td>\n",
       "      <td>Transf. Internet a otro Bancos</td>\n",
       "      <td>0</td>\n",
       "    </tr>\n",
       "    <tr>\n",
       "      <th>1</th>\n",
       "      <td>03/01/2022</td>\n",
       "      <td>189.390</td>\n",
       "      <td>NaN</td>\n",
       "      <td>Traspaso Internet a T. Crédito</td>\n",
       "      <td>0</td>\n",
       "    </tr>\n",
       "    <tr>\n",
       "      <th>2</th>\n",
       "      <td>03/01/2022</td>\n",
       "      <td>30.092</td>\n",
       "      <td>NaN</td>\n",
       "      <td>Compra TOTTUS VICUNA MAC</td>\n",
       "      <td>0</td>\n",
       "    </tr>\n",
       "    <tr>\n",
       "      <th>3</th>\n",
       "      <td>03/01/2022</td>\n",
       "      <td>12.210</td>\n",
       "      <td>NaN</td>\n",
       "      <td>Compra BEST FOR PETS</td>\n",
       "      <td>0</td>\n",
       "    </tr>\n",
       "    <tr>\n",
       "      <th>4</th>\n",
       "      <td>03/01/2022</td>\n",
       "      <td>9.360</td>\n",
       "      <td>NaN</td>\n",
       "      <td>Compra SUPERMERCADO LOS</td>\n",
       "      <td>0</td>\n",
       "    </tr>\n",
       "  </tbody>\n",
       "</table>\n",
       "</div>"
      ],
      "text/plain": [
       "        Fecha   Salida Entrada                     Descripción  Documento\n",
       "0  03/01/2022  763.400     NaN  Transf. Internet a otro Bancos          0\n",
       "1  03/01/2022  189.390     NaN  Traspaso Internet a T. Crédito          0\n",
       "2  03/01/2022   30.092     NaN        Compra TOTTUS VICUNA MAC          0\n",
       "3  03/01/2022   12.210     NaN            Compra BEST FOR PETS          0\n",
       "4  03/01/2022    9.360     NaN         Compra SUPERMERCADO LOS          0"
      ]
     },
     "execution_count": 12,
     "metadata": {},
     "output_type": "execute_result"
    }
   ],
   "source": [
    "df_s_all = pd.concat([df_s0,df_s1,df_s2,df_s3])\n",
    "df_s_all.head()"
   ]
  },
  {
   "attachments": {},
   "cell_type": "markdown",
   "metadata": {},
   "source": [
    "#### From this point on we are going to work just with purchase because de propose of this analisys has to be with how much I am spending and in what"
   ]
  },
  {
   "cell_type": "code",
   "execution_count": 33,
   "metadata": {},
   "outputs": [],
   "source": [
    "df_purchase = df_s_all[df_s_all['Descripción'].str.contains('Compra') ]"
   ]
  },
  {
   "cell_type": "code",
   "execution_count": 34,
   "metadata": {},
   "outputs": [],
   "source": [
    "df_purchase.to_csv('Purchase.csv')\n"
   ]
  },
  {
   "attachments": {},
   "cell_type": "markdown",
   "metadata": {},
   "source": [
    "#### df_bnk_purchases is the dataset to work, it doesn't contain sensible data so it will be available in this repository of Github"
   ]
  },
  {
   "cell_type": "code",
   "execution_count": 35,
   "metadata": {},
   "outputs": [],
   "source": [
    "df_bnk_purchases= pd.read_csv(\"Purchase.csv\")"
   ]
  },
  {
   "cell_type": "code",
   "execution_count": 36,
   "metadata": {},
   "outputs": [
    {
     "data": {
      "text/plain": [
       "Unnamed: 0       0\n",
       "Fecha            0\n",
       "Salida           0\n",
       "Entrada        487\n",
       "Descripción      0\n",
       "Documento        0\n",
       "dtype: int64"
      ]
     },
     "execution_count": 36,
     "metadata": {},
     "output_type": "execute_result"
    }
   ],
   "source": [
    "# Lets check the amount of NA in each of the columns of the dataset\n",
    "df_bnk_purchases.isnull().sum()"
   ]
  },
  {
   "cell_type": "code",
   "execution_count": 37,
   "metadata": {},
   "outputs": [
    {
     "data": {
      "text/html": [
       "<div>\n",
       "<style scoped>\n",
       "    .dataframe tbody tr th:only-of-type {\n",
       "        vertical-align: middle;\n",
       "    }\n",
       "\n",
       "    .dataframe tbody tr th {\n",
       "        vertical-align: top;\n",
       "    }\n",
       "\n",
       "    .dataframe thead th {\n",
       "        text-align: right;\n",
       "    }\n",
       "</style>\n",
       "<table border=\"1\" class=\"dataframe\">\n",
       "  <thead>\n",
       "    <tr style=\"text-align: right;\">\n",
       "      <th></th>\n",
       "      <th>Unnamed: 0</th>\n",
       "      <th>Fecha</th>\n",
       "      <th>Salida</th>\n",
       "      <th>Entrada</th>\n",
       "      <th>Descripción</th>\n",
       "      <th>Documento</th>\n",
       "    </tr>\n",
       "  </thead>\n",
       "  <tbody>\n",
       "    <tr>\n",
       "      <th>0</th>\n",
       "      <td>2</td>\n",
       "      <td>03/01/2022</td>\n",
       "      <td>30.092</td>\n",
       "      <td>NaN</td>\n",
       "      <td>Compra TOTTUS VICUNA MAC</td>\n",
       "      <td>0</td>\n",
       "    </tr>\n",
       "    <tr>\n",
       "      <th>1</th>\n",
       "      <td>3</td>\n",
       "      <td>03/01/2022</td>\n",
       "      <td>12.210</td>\n",
       "      <td>NaN</td>\n",
       "      <td>Compra BEST FOR PETS</td>\n",
       "      <td>0</td>\n",
       "    </tr>\n",
       "    <tr>\n",
       "      <th>2</th>\n",
       "      <td>4</td>\n",
       "      <td>03/01/2022</td>\n",
       "      <td>9.360</td>\n",
       "      <td>NaN</td>\n",
       "      <td>Compra SUPERMERCADO LOS</td>\n",
       "      <td>0</td>\n",
       "    </tr>\n",
       "    <tr>\n",
       "      <th>3</th>\n",
       "      <td>5</td>\n",
       "      <td>03/01/2022</td>\n",
       "      <td>8.350</td>\n",
       "      <td>NaN</td>\n",
       "      <td>Compra STARBUCKS ESTADO</td>\n",
       "      <td>0</td>\n",
       "    </tr>\n",
       "    <tr>\n",
       "      <th>4</th>\n",
       "      <td>6</td>\n",
       "      <td>03/01/2022</td>\n",
       "      <td>3.000</td>\n",
       "      <td>NaN</td>\n",
       "      <td>Compra POLLA CHILENA</td>\n",
       "      <td>0</td>\n",
       "    </tr>\n",
       "  </tbody>\n",
       "</table>\n",
       "</div>"
      ],
      "text/plain": [
       "   Unnamed: 0       Fecha  Salida  Entrada               Descripción  \\\n",
       "0           2  03/01/2022  30.092      NaN  Compra TOTTUS VICUNA MAC   \n",
       "1           3  03/01/2022  12.210      NaN      Compra BEST FOR PETS   \n",
       "2           4  03/01/2022   9.360      NaN   Compra SUPERMERCADO LOS   \n",
       "3           5  03/01/2022   8.350      NaN   Compra STARBUCKS ESTADO   \n",
       "4           6  03/01/2022   3.000      NaN      Compra POLLA CHILENA   \n",
       "\n",
       "   Documento  \n",
       "0          0  \n",
       "1          0  \n",
       "2          0  \n",
       "3          0  \n",
       "4          0  "
      ]
     },
     "execution_count": 37,
     "metadata": {},
     "output_type": "execute_result"
    }
   ],
   "source": [
    "df_bnk_purchases.head()"
   ]
  },
  {
   "attachments": {},
   "cell_type": "markdown",
   "metadata": {},
   "source": [
    "##### As we can see there is NA data in the column Entrada this is normal because the movments we are analysing are outcomes, in fact we can drop this column since it is not necesary"
   ]
  },
  {
   "attachments": {},
   "cell_type": "markdown",
   "metadata": {},
   "source": [
    "#### On the other hand the column Descripcion has importan information that can help uo to segment information later for example:\n",
    "- Transferences\n",
    "- Who I transfered money\n",
    "- Purchases\n",
    "- Places where I purchase"
   ]
  },
  {
   "cell_type": "code",
   "execution_count": 39,
   "metadata": {},
   "outputs": [
    {
     "name": "stderr",
     "output_type": "stream",
     "text": [
      "C:\\Users\\yohan\\AppData\\Local\\Temp\\ipykernel_20016\\1047782853.py:1: FutureWarning: In a future version of pandas all arguments of StringMethods.split except for the argument 'pat' will be keyword-only.\n",
      "  purchases_des = df_bnk_purchases[\"Descripción\"].str.split(' ', 2  ,expand=True).reset_index(drop=True)\n"
     ]
    },
    {
     "data": {
      "text/html": [
       "<div>\n",
       "<style scoped>\n",
       "    .dataframe tbody tr th:only-of-type {\n",
       "        vertical-align: middle;\n",
       "    }\n",
       "\n",
       "    .dataframe tbody tr th {\n",
       "        vertical-align: top;\n",
       "    }\n",
       "\n",
       "    .dataframe thead th {\n",
       "        text-align: right;\n",
       "    }\n",
       "</style>\n",
       "<table border=\"1\" class=\"dataframe\">\n",
       "  <thead>\n",
       "    <tr style=\"text-align: right;\">\n",
       "      <th></th>\n",
       "      <th>0</th>\n",
       "      <th>1</th>\n",
       "      <th>2</th>\n",
       "    </tr>\n",
       "  </thead>\n",
       "  <tbody>\n",
       "    <tr>\n",
       "      <th>0</th>\n",
       "      <td>Compra</td>\n",
       "      <td>TOTTUS</td>\n",
       "      <td>VICUNA MAC</td>\n",
       "    </tr>\n",
       "    <tr>\n",
       "      <th>1</th>\n",
       "      <td>Compra</td>\n",
       "      <td>BEST</td>\n",
       "      <td>FOR PETS</td>\n",
       "    </tr>\n",
       "    <tr>\n",
       "      <th>2</th>\n",
       "      <td>Compra</td>\n",
       "      <td>SUPERMERCADO</td>\n",
       "      <td>LOS</td>\n",
       "    </tr>\n",
       "    <tr>\n",
       "      <th>3</th>\n",
       "      <td>Compra</td>\n",
       "      <td>STARBUCKS</td>\n",
       "      <td>ESTADO</td>\n",
       "    </tr>\n",
       "    <tr>\n",
       "      <th>4</th>\n",
       "      <td>Compra</td>\n",
       "      <td>POLLA</td>\n",
       "      <td>CHILENA</td>\n",
       "    </tr>\n",
       "    <tr>\n",
       "      <th>5</th>\n",
       "      <td>Compra</td>\n",
       "      <td>NOTARIA</td>\n",
       "      <td>ELENA TOR</td>\n",
       "    </tr>\n",
       "    <tr>\n",
       "      <th>6</th>\n",
       "      <td>Compra</td>\n",
       "      <td>PEPE</td>\n",
       "      <td>None</td>\n",
       "    </tr>\n",
       "    <tr>\n",
       "      <th>7</th>\n",
       "      <td>Compra</td>\n",
       "      <td>NOTARIA</td>\n",
       "      <td>LASCAR</td>\n",
       "    </tr>\n",
       "    <tr>\n",
       "      <th>8</th>\n",
       "      <td>Compra</td>\n",
       "      <td>SN</td>\n",
       "      <td>CAMILO METRO I</td>\n",
       "    </tr>\n",
       "    <tr>\n",
       "      <th>9</th>\n",
       "      <td>Compra</td>\n",
       "      <td>SODIMAC</td>\n",
       "      <td>PARQUE AR</td>\n",
       "    </tr>\n",
       "  </tbody>\n",
       "</table>\n",
       "</div>"
      ],
      "text/plain": [
       "        0             1               2\n",
       "0  Compra        TOTTUS      VICUNA MAC\n",
       "1  Compra          BEST        FOR PETS\n",
       "2  Compra  SUPERMERCADO             LOS\n",
       "3  Compra     STARBUCKS          ESTADO\n",
       "4  Compra         POLLA         CHILENA\n",
       "5  Compra       NOTARIA       ELENA TOR\n",
       "6  Compra          PEPE            None\n",
       "7  Compra       NOTARIA          LASCAR\n",
       "8  Compra            SN  CAMILO METRO I\n",
       "9  Compra       SODIMAC       PARQUE AR"
      ]
     },
     "execution_count": 39,
     "metadata": {},
     "output_type": "execute_result"
    }
   ],
   "source": [
    "purchases_des = df_bnk_purchases[\"Descripción\"].str.split(' ', 2  ,expand=True).reset_index(drop=True)\n",
    "purchases_des.head(10)"
   ]
  },
  {
   "attachments": {},
   "cell_type": "markdown",
   "metadata": {},
   "source": [
    "#### Most of the information in the Descripción column has three states 0= type, 1 =Category and 3 = place\n",
    "Lets replace the names of the columns"
   ]
  },
  {
   "cell_type": "code",
   "execution_count": 42,
   "metadata": {},
   "outputs": [
    {
     "data": {
      "text/html": [
       "<div>\n",
       "<style scoped>\n",
       "    .dataframe tbody tr th:only-of-type {\n",
       "        vertical-align: middle;\n",
       "    }\n",
       "\n",
       "    .dataframe tbody tr th {\n",
       "        vertical-align: top;\n",
       "    }\n",
       "\n",
       "    .dataframe thead th {\n",
       "        text-align: right;\n",
       "    }\n",
       "</style>\n",
       "<table border=\"1\" class=\"dataframe\">\n",
       "  <thead>\n",
       "    <tr style=\"text-align: right;\">\n",
       "      <th></th>\n",
       "      <th>Tipo</th>\n",
       "      <th>Categoria</th>\n",
       "      <th>Lugar</th>\n",
       "    </tr>\n",
       "  </thead>\n",
       "  <tbody>\n",
       "    <tr>\n",
       "      <th>0</th>\n",
       "      <td>Compra</td>\n",
       "      <td>TOTTUS</td>\n",
       "      <td>VICUNA MAC</td>\n",
       "    </tr>\n",
       "    <tr>\n",
       "      <th>1</th>\n",
       "      <td>Compra</td>\n",
       "      <td>BEST</td>\n",
       "      <td>FOR PETS</td>\n",
       "    </tr>\n",
       "    <tr>\n",
       "      <th>2</th>\n",
       "      <td>Compra</td>\n",
       "      <td>SUPERMERCADO</td>\n",
       "      <td>LOS</td>\n",
       "    </tr>\n",
       "    <tr>\n",
       "      <th>3</th>\n",
       "      <td>Compra</td>\n",
       "      <td>STARBUCKS</td>\n",
       "      <td>ESTADO</td>\n",
       "    </tr>\n",
       "    <tr>\n",
       "      <th>4</th>\n",
       "      <td>Compra</td>\n",
       "      <td>POLLA</td>\n",
       "      <td>CHILENA</td>\n",
       "    </tr>\n",
       "    <tr>\n",
       "      <th>5</th>\n",
       "      <td>Compra</td>\n",
       "      <td>NOTARIA</td>\n",
       "      <td>ELENA TOR</td>\n",
       "    </tr>\n",
       "    <tr>\n",
       "      <th>6</th>\n",
       "      <td>Compra</td>\n",
       "      <td>PEPE</td>\n",
       "      <td>None</td>\n",
       "    </tr>\n",
       "    <tr>\n",
       "      <th>7</th>\n",
       "      <td>Compra</td>\n",
       "      <td>NOTARIA</td>\n",
       "      <td>LASCAR</td>\n",
       "    </tr>\n",
       "    <tr>\n",
       "      <th>8</th>\n",
       "      <td>Compra</td>\n",
       "      <td>SN</td>\n",
       "      <td>CAMILO METRO I</td>\n",
       "    </tr>\n",
       "    <tr>\n",
       "      <th>9</th>\n",
       "      <td>Compra</td>\n",
       "      <td>SODIMAC</td>\n",
       "      <td>PARQUE AR</td>\n",
       "    </tr>\n",
       "  </tbody>\n",
       "</table>\n",
       "</div>"
      ],
      "text/plain": [
       "     Tipo     Categoria           Lugar\n",
       "0  Compra        TOTTUS      VICUNA MAC\n",
       "1  Compra          BEST        FOR PETS\n",
       "2  Compra  SUPERMERCADO             LOS\n",
       "3  Compra     STARBUCKS          ESTADO\n",
       "4  Compra         POLLA         CHILENA\n",
       "5  Compra       NOTARIA       ELENA TOR\n",
       "6  Compra          PEPE            None\n",
       "7  Compra       NOTARIA          LASCAR\n",
       "8  Compra            SN  CAMILO METRO I\n",
       "9  Compra       SODIMAC       PARQUE AR"
      ]
     },
     "execution_count": 42,
     "metadata": {},
     "output_type": "execute_result"
    }
   ],
   "source": [
    "purchases_ren = purchases_des.rename(columns= {0:'Tipo',1:'Categoria',2:'Lugar'})\n",
    "purchases_ren.head(10)"
   ]
  },
  {
   "cell_type": "code",
   "execution_count": 43,
   "metadata": {},
   "outputs": [
    {
     "data": {
      "text/html": [
       "<div>\n",
       "<style scoped>\n",
       "    .dataframe tbody tr th:only-of-type {\n",
       "        vertical-align: middle;\n",
       "    }\n",
       "\n",
       "    .dataframe tbody tr th {\n",
       "        vertical-align: top;\n",
       "    }\n",
       "\n",
       "    .dataframe thead th {\n",
       "        text-align: right;\n",
       "    }\n",
       "</style>\n",
       "<table border=\"1\" class=\"dataframe\">\n",
       "  <thead>\n",
       "    <tr style=\"text-align: right;\">\n",
       "      <th></th>\n",
       "      <th>Unnamed: 0</th>\n",
       "      <th>Fecha</th>\n",
       "      <th>Salida</th>\n",
       "      <th>Entrada</th>\n",
       "      <th>Descripción</th>\n",
       "      <th>Documento</th>\n",
       "      <th>Tipo</th>\n",
       "      <th>Categoria</th>\n",
       "      <th>Lugar</th>\n",
       "    </tr>\n",
       "  </thead>\n",
       "  <tbody>\n",
       "    <tr>\n",
       "      <th>0</th>\n",
       "      <td>2</td>\n",
       "      <td>03/01/2022</td>\n",
       "      <td>30.092</td>\n",
       "      <td>NaN</td>\n",
       "      <td>Compra TOTTUS VICUNA MAC</td>\n",
       "      <td>0</td>\n",
       "      <td>Compra</td>\n",
       "      <td>TOTTUS</td>\n",
       "      <td>VICUNA MAC</td>\n",
       "    </tr>\n",
       "    <tr>\n",
       "      <th>1</th>\n",
       "      <td>3</td>\n",
       "      <td>03/01/2022</td>\n",
       "      <td>12.210</td>\n",
       "      <td>NaN</td>\n",
       "      <td>Compra BEST FOR PETS</td>\n",
       "      <td>0</td>\n",
       "      <td>Compra</td>\n",
       "      <td>BEST</td>\n",
       "      <td>FOR PETS</td>\n",
       "    </tr>\n",
       "    <tr>\n",
       "      <th>2</th>\n",
       "      <td>4</td>\n",
       "      <td>03/01/2022</td>\n",
       "      <td>9.360</td>\n",
       "      <td>NaN</td>\n",
       "      <td>Compra SUPERMERCADO LOS</td>\n",
       "      <td>0</td>\n",
       "      <td>Compra</td>\n",
       "      <td>SUPERMERCADO</td>\n",
       "      <td>LOS</td>\n",
       "    </tr>\n",
       "    <tr>\n",
       "      <th>3</th>\n",
       "      <td>5</td>\n",
       "      <td>03/01/2022</td>\n",
       "      <td>8.350</td>\n",
       "      <td>NaN</td>\n",
       "      <td>Compra STARBUCKS ESTADO</td>\n",
       "      <td>0</td>\n",
       "      <td>Compra</td>\n",
       "      <td>STARBUCKS</td>\n",
       "      <td>ESTADO</td>\n",
       "    </tr>\n",
       "    <tr>\n",
       "      <th>4</th>\n",
       "      <td>6</td>\n",
       "      <td>03/01/2022</td>\n",
       "      <td>3.000</td>\n",
       "      <td>NaN</td>\n",
       "      <td>Compra POLLA CHILENA</td>\n",
       "      <td>0</td>\n",
       "      <td>Compra</td>\n",
       "      <td>POLLA</td>\n",
       "      <td>CHILENA</td>\n",
       "    </tr>\n",
       "  </tbody>\n",
       "</table>\n",
       "</div>"
      ],
      "text/plain": [
       "   Unnamed: 0       Fecha  Salida  Entrada               Descripción  \\\n",
       "0           2  03/01/2022  30.092      NaN  Compra TOTTUS VICUNA MAC   \n",
       "1           3  03/01/2022  12.210      NaN      Compra BEST FOR PETS   \n",
       "2           4  03/01/2022   9.360      NaN   Compra SUPERMERCADO LOS   \n",
       "3           5  03/01/2022   8.350      NaN   Compra STARBUCKS ESTADO   \n",
       "4           6  03/01/2022   3.000      NaN      Compra POLLA CHILENA   \n",
       "\n",
       "   Documento    Tipo     Categoria       Lugar  \n",
       "0          0  Compra        TOTTUS  VICUNA MAC  \n",
       "1          0  Compra          BEST    FOR PETS  \n",
       "2          0  Compra  SUPERMERCADO         LOS  \n",
       "3          0  Compra     STARBUCKS      ESTADO  \n",
       "4          0  Compra         POLLA     CHILENA  "
      ]
     },
     "execution_count": 43,
     "metadata": {},
     "output_type": "execute_result"
    }
   ],
   "source": [
    "df_purchases_join = df_bnk_purchases.join(purchases_ren).reset_index(drop=True)\n",
    "df_purchases_join.head()"
   ]
  },
  {
   "cell_type": "code",
   "execution_count": 44,
   "metadata": {},
   "outputs": [
    {
     "data": {
      "text/plain": [
       "(487, 9)"
      ]
     },
     "execution_count": 44,
     "metadata": {},
     "output_type": "execute_result"
    }
   ],
   "source": [
    "# Let see the shape of the Dataset\n",
    "df_purchases_join.shape"
   ]
  },
  {
   "attachments": {},
   "cell_type": "markdown",
   "metadata": {},
   "source": [
    "#### Anothe split that can be usefull is Date, we have to separate year, month and day in order to create a granular analisys and see if there is a patern in the way I spend money"
   ]
  },
  {
   "cell_type": "code",
   "execution_count": 45,
   "metadata": {},
   "outputs": [
    {
     "data": {
      "text/plain": [
       "Unnamed: 0       int64\n",
       "Fecha           object\n",
       "Salida         float64\n",
       "Entrada        float64\n",
       "Descripción     object\n",
       "Documento        int64\n",
       "Tipo            object\n",
       "Categoria       object\n",
       "Lugar           object\n",
       "dtype: object"
      ]
     },
     "execution_count": 45,
     "metadata": {},
     "output_type": "execute_result"
    }
   ],
   "source": [
    "# To see if I can split dates I have to convert Fecha into a date type, for now is an object\n",
    "df_purchases_join.dtypes"
   ]
  }
 ],
 "metadata": {
  "kernelspec": {
   "display_name": "Python 3",
   "language": "python",
   "name": "python3"
  },
  "language_info": {
   "codemirror_mode": {
    "name": "ipython",
    "version": 3
   },
   "file_extension": ".py",
   "mimetype": "text/x-python",
   "name": "python",
   "nbconvert_exporter": "python",
   "pygments_lexer": "ipython3",
   "version": "3.11.0"
  },
  "orig_nbformat": 4
 },
 "nbformat": 4,
 "nbformat_minor": 2
}
